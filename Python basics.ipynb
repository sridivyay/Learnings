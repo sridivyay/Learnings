{
 "cells": [
  {
   "cell_type": "markdown",
   "metadata": {},
   "source": [
    "# Python basics\n",
    "## Index\n",
    "1. [Strings](#Strings)\n",
    "2. [List](#List)\n",
    "3. [Tuple](#Tuple)\n",
    "4. [Dict](#Dict)\n",
    "5. [Immutable and Mutable](#Immutable-and-Mutable)\n",
    "6. [Arrays](#Arrays)\n",
    "7. [Numpy-Arrays](#Numpy-Arrays)\n",
    "8. [Matplotlib](#Matplotlib)\n"
   ]
  },
  {
   "cell_type": "markdown",
   "metadata": {},
   "source": [
    "# Strings \n",
    "\n",
    "Both \" and ' enclosed strings are same in python. But to use \" and ' in strings use the other convention to just increase the readability of the program instead of using the escape character.  \n",
    "Also \"\"\" is for doc string. Also can be treated as string.  \n",
    "String formatter can be used in this way \"some text %r %s\" %(var1,var2)  \n",
    "Raw string is to treat back slashes as back slashes instead of escape characters  \n",
    "### **Coming up: Some basic operations on string using built in libraries**"
   ]
  },
  {
   "cell_type": "code",
   "execution_count": 88,
   "metadata": {},
   "outputs": [
    {
     "name": "stdout",
     "output_type": "stream",
     "text": [
      "Hello world String 1\n",
      "Hello world String 2\n",
      "Hello world String 3\n",
      "----------------------------------------------------------------------------------------------------\n",
      "Program said \"Hello World\"\n",
      "I've said hello world\n",
      "I've said hello world\n",
      "----------------------------------------------------------------------------------------------------\n",
      "This is an example of format string in python  3  'Hello world' \n",
      "\\n Hello world \\n next line\n",
      "\n",
      " Hello world \n",
      " next line\n",
      "----------------------------------------------------------------------------------------------------\n"
     ]
    }
   ],
   "source": [
    "string_example1 = 'Hello world String 1'\n",
    "string_example2 = \"Hello world String 2\"\n",
    "string_example3 = \"\"\"Hello world String 3\"\"\"\n",
    "\n",
    "print(string_example1)\n",
    "print(string_example2)\n",
    "print(string_example3)\n",
    "\n",
    "print('-'*100)\n",
    "\n",
    "string_example1 = 'Program said \"Hello World\"'\n",
    "string_example2 = \"I've said hello world\"\n",
    "string_example3 = \"\"\"I've said hello world\"\"\" \n",
    "\n",
    "print(string_example1)\n",
    "print(string_example2)\n",
    "print(string_example3)\n",
    "\n",
    "print('-'*100)\n",
    "\n",
    "print(\"This is an %s  %d  %r \"%(\"example of format string in python\",3,\"Hello world\"))\n",
    "raw_string_demo = r'\\n Hello world \\n next line'\n",
    "not_raw_string = '\\n Hello world \\n next line'\n",
    "print(raw_string_demo)\n",
    "print(not_raw_string)\n",
    "print('-'*100)\n",
    "\n"
   ]
  },
  {
   "cell_type": "markdown",
   "metadata": {},
   "source": [
    "# List\n",
    "\n",
    "List is ordered collection which has duplicate members. It is changeable.\n",
    "\n",
    "**On making assignemts in the list it does not copy the list but only creates the reference**\n",
    "\n",
    "append is to add to the list. \n",
    "\n",
    "**As list is change able it modifies the list in the callee function if caller function changes it**\n",
    "\n",
    "\n"
   ]
  },
  {
   "cell_type": "code",
   "execution_count": 89,
   "metadata": {},
   "outputs": [],
   "source": [
    "def func_modifying_list(list_arg):\n",
    "    list_arg[0] = 100\n",
    "    list_arg.append(200)\n",
    "    print(\"In function modifying the list \",list_arg)"
   ]
  },
  {
   "cell_type": "code",
   "execution_count": 90,
   "metadata": {},
   "outputs": [
    {
     "name": "stdout",
     "output_type": "stream",
     "text": [
      "Initial list  [1, 2, 3, 4]\n",
      "List demo2  [1, 2, 3, 4]\n",
      "List demo1  [5, 2, 3, 4]\n",
      "List demo2  [5, 2, 3, 4]\n",
      "----------------------------------------------------------------------------------------------------\n",
      "List demo1  [5, 6, 3, 4]\n",
      "List demo2  [5, 6, 3, 4]\n",
      "----------------------------------------------------------------------------------------------------\n",
      "List demo3  [5, 6, 3, 4, 5, 6, 3, 4]\n",
      "List demo3  [7, 6, 3, 4, 5, 6, 3, 4]\n",
      "----------------------------------------------------------------------------------------------------\n",
      "List demo4  [1]\n",
      "----------------------------------------------------------------------------------------------------\n",
      "Before function call  [1]\n",
      "In function modifying the list  [100, 200]\n",
      "After function call  [100, 200]\n",
      "----------------------------------------------------------------------------------------------------\n",
      "List demo4  [100, 200]\n",
      "List demo4  [100, 0, 200]\n",
      "----------------------------------------------------------------------------------------------------\n",
      "List demo4  [100, 0, 200]\n",
      "List demo4  [0, 200]\n",
      "----------------------------------------------------------------------------------------------------\n",
      "Zero is present\n",
      "----------------------------------------------------------------------------------------------------\n",
      "Printing list demo4\n",
      "0\n",
      "200\n"
     ]
    }
   ],
   "source": [
    "list_demo = [1,2,3,4]\n",
    "print(\"Initial list \" ,list_demo)\n",
    "\n",
    "list_demo2 = list_demo\n",
    "print(\"List demo2 \",list_demo2)\n",
    "\n",
    "list_demo[0] = 5\n",
    "print(\"List demo1 \" ,list_demo)\n",
    "print(\"List demo2 \",list_demo2)\n",
    "print('-'*100)\n",
    "\n",
    "list_demo2[1] = 6\n",
    "print(\"List demo1 \" ,list_demo)\n",
    "print(\"List demo2 \",list_demo2)\n",
    "print('-'*100)\n",
    "\n",
    "list_demo3 = list_demo + list_demo2\n",
    "print(\"List demo3 \" ,list_demo3)\n",
    "list_demo3[0] = 7\n",
    "print(\"List demo3 \" ,list_demo3)\n",
    "print('-'*100)\n",
    "\n",
    "list_demo4  = []\n",
    "list_demo4.append(1)\n",
    "print(\"List demo4 \" ,list_demo4)\n",
    "print('-'*100)\n",
    "\n",
    "print(\"Before function call \" ,list_demo4)\n",
    "func_modifying_list(list_demo4)\n",
    "print(\"After function call \" ,list_demo4)\n",
    "print('-'*100)\n",
    "\n",
    "print(\"List demo4 \" ,list_demo4)\n",
    "list_demo4.insert(1,0)\n",
    "print(\"List demo4 \" ,list_demo4)\n",
    "print('-'*100)\n",
    "\n",
    "\n",
    "print(\"List demo4 \" ,list_demo4)\n",
    "list_demo4.remove(100)\n",
    "print(\"List demo4 \" ,list_demo4)\n",
    "print('-'*100)\n",
    "\n",
    "if 0 in list_demo4:\n",
    "    print(\"Zero is present\")\n",
    "print('-'*100)\n",
    "\n",
    "print(\"Printing list demo4\")    \n",
    "for list_num in list_demo4:\n",
    "    print(list_num)"
   ]
  },
  {
   "cell_type": "markdown",
   "metadata": {},
   "source": [
    "## Dict"
   ]
  },
  {
   "cell_type": "code",
   "execution_count": 91,
   "metadata": {},
   "outputs": [
    {
     "name": "stdout",
     "output_type": "stream",
     "text": [
      "{}\n"
     ]
    }
   ],
   "source": [
    "demo_dict = {}\n",
    "print(demo_dict)\n",
    "demo_dict['A'] = 'Alpha'\n",
    "demo_dict['B'] = 'Beta'"
   ]
  },
  {
   "cell_type": "markdown",
   "metadata": {},
   "source": [
    "## Immutable and Mutable\n",
    "\n",
    "### Mutable Objects\n",
    "list, dict, set, byte array\n",
    "\n",
    "### Immutable Objects\n",
    "int, float, complex, string, tuple, frozen set [note: immutable version of set], bytes\n",
    "\n",
    "1. List is a collection which is ordered and changeable. Allows duplicate members.\n",
    "2. Tuple is a collection which is ordered and unchangeable. Allows duplicate members.\n",
    "3. Set is a collection which is unordered and unindexed. No duplicate members.\n",
    "4. Dictionary is a collection which is unordered, changeable and indexed. No duplicate members."
   ]
  },
  {
   "cell_type": "code",
   "execution_count": 92,
   "metadata": {},
   "outputs": [],
   "source": [
    "# As the numbers are not mutable hence the value is not being changed in the caller function\n",
    "def func1(num1,num2):\n",
    "    num1 = num1 + 10\n",
    "    num2 = num2 + 10\n",
    "    print(\"In func1 the values are \",num1,num2)\n",
    "    "
   ]
  },
  {
   "cell_type": "code",
   "execution_count": 93,
   "metadata": {},
   "outputs": [
    {
     "name": "stdout",
     "output_type": "stream",
     "text": [
      "Direct value sent\n",
      "In func1 the values are  20 30\n",
      "Before Variable values sent 0 100\n",
      "In func1 the values are  10 110\n",
      "After Variable values sent 0 100\n"
     ]
    }
   ],
   "source": [
    "print(\"Direct value sent\")\n",
    "func1(10,20)\n",
    "num1 = 0\n",
    "num2 = 100\n",
    "print(\"Before Variable values sent\",num1,num2)\n",
    "func1(num1,num2)\n",
    "print(\"After Variable values sent\",num1,num2)"
   ]
  },
  {
   "cell_type": "code",
   "execution_count": 94,
   "metadata": {},
   "outputs": [
    {
     "name": "stdout",
     "output_type": "stream",
     "text": [
      "[42]\n",
      "[42]\n"
     ]
    }
   ],
   "source": [
    "# List is mutable hence the value is being appended in the original list.\n",
    "\n",
    "def foo(bar):\n",
    "    bar.append(42)\n",
    "    print(bar)\n",
    "    \n",
    "answer_list = []\n",
    "foo(answer_list)\n",
    "print(answer_list)"
   ]
  }
 ],
 "metadata": {
  "kernelspec": {
   "display_name": "Python 3",
   "language": "python",
   "name": "python3"
  },
  "language_info": {
   "codemirror_mode": {
    "name": "ipython",
    "version": 3
   },
   "file_extension": ".py",
   "mimetype": "text/x-python",
   "name": "python",
   "nbconvert_exporter": "python",
   "pygments_lexer": "ipython3",
   "version": "3.7.1"
  }
 },
 "nbformat": 4,
 "nbformat_minor": 2
}
